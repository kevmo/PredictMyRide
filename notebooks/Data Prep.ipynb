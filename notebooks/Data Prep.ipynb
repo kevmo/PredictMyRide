{
 "cells": [
  {
   "cell_type": "code",
   "execution_count": 1,
   "id": "be0494ca-c36d-4ee1-ad81-143547b3d344",
   "metadata": {},
   "outputs": [],
   "source": [
    "import pandas as pd\n",
    "import numpy as np"
   ]
  },
  {
   "cell_type": "code",
   "execution_count": 2,
   "id": "ff80a299-0434-4bf4-a9eb-7c1019a0f12f",
   "metadata": {},
   "outputs": [],
   "source": [
    "data_url = \"https://www.kaggle.com/datasets/CooperUnion/cardataset/download?datasetVersionNumber=1\""
   ]
  },
  {
   "cell_type": "code",
   "execution_count": 4,
   "id": "659fa682-a761-4508-949a-ecdc3506f8f9",
   "metadata": {},
   "outputs": [
    {
     "name": "stdout",
     "output_type": "stream",
     "text": [
      "--2023-11-09 15:01:03--  https://www.kaggle.com/datasets/CooperUnion/cardataset/download?datasetVersionNumber=1\n",
      "Resolving www.kaggle.com (www.kaggle.com)... 35.244.233.98\n",
      "Connecting to www.kaggle.com (www.kaggle.com)|35.244.233.98|:443... connected.\n",
      "HTTP request sent, awaiting response... 302 Found\n",
      "Location: /account/login?titleType=dataset-downloads&showDatasetDownloadSkip=False&messageId=datasetsWelcome&returnUrl=%2Fdatasets%2FCooperUnion%2Fcardataset%2Fversions%2F1%3Fresource%3Ddownload [following]\n",
      "--2023-11-09 15:01:04--  https://www.kaggle.com/account/login?titleType=dataset-downloads&showDatasetDownloadSkip=False&messageId=datasetsWelcome&returnUrl=%2Fdatasets%2FCooperUnion%2Fcardataset%2Fversions%2F1%3Fresource%3Ddownload\n",
      "Reusing existing connection to www.kaggle.com:443.\n",
      "HTTP request sent, awaiting response... 200 OK\n",
      "Length: unspecified [text/html]\n",
      "Saving to: ‘download?datasetVersionNumber=1’\n",
      "\n",
      "download?datasetVer     [ <=>                ]   4.76K  --.-KB/s    in 0.001s  \n",
      "\n",
      "2023-11-09 15:01:04 (3.90 MB/s) - ‘download?datasetVersionNumber=1’ saved [4873]\n",
      "\n"
     ]
    }
   ],
   "source": [
    "!wget $data_url"
   ]
  },
  {
   "cell_type": "code",
   "execution_count": null,
   "id": "f148ba83-4dc0-4aab-b06a-baa4d3434edc",
   "metadata": {},
   "outputs": [],
   "source": []
  }
 ],
 "metadata": {
  "kernelspec": {
   "display_name": "Python 3 (ipykernel)",
   "language": "python",
   "name": "python3"
  },
  "language_info": {
   "codemirror_mode": {
    "name": "ipython",
    "version": 3
   },
   "file_extension": ".py",
   "mimetype": "text/x-python",
   "name": "python",
   "nbconvert_exporter": "python",
   "pygments_lexer": "ipython3",
   "version": "3.11.5"
  }
 },
 "nbformat": 4,
 "nbformat_minor": 5
}
